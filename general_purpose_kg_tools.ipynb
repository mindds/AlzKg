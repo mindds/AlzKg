{
  "nbformat": 4,
  "nbformat_minor": 0,
  "metadata": {
    "colab": {
      "provenance": []
    },
    "kernelspec": {
      "name": "python3",
      "display_name": "Python 3"
    },
    "language_info": {
      "name": "python"
    }
  },
  "cells": [
    {
      "cell_type": "code",
      "execution_count": null,
      "metadata": {
        "id": "WaTa_78eOChK"
      },
      "outputs": [],
      "source": [
        "import pandas as pd\n",
        "\n",
        "def general_purpose_kg_tools(file_path, operation_mode, node_types=None):\n",
        "    \"\"\"\n",
        "    Perform various operations on knowledge graphs following the PrimeKG format, such as filtering by node types,\n",
        "    extracting a nodes file, and printing unique node types.\n",
        "\n",
        "    Args:\n",
        "        file_path (str): The path to the CSV file to be processed.\n",
        "        operation_mode (str): Operation mode;\n",
        "            - 'retain_node_types': to retain rows where both x_type and y_type match the specified node types,\n",
        "            - 'delete_node_types': to remove rows where either x_type or y_type match the specified node types,\n",
        "            - 'print_node_types': to print unique node types in the x_type column,\n",
        "            - 'extract_nodes_file': to extract specific columns and ensure uniqueness based on x_id, x_type, x_name.\n",
        "            - node_types (list, optional): List of node types to either retain or remove, based on the operation mode.\n",
        "              Required for 'retain_node_types' and 'delete_node_types' modes.\n",
        "\n",
        "    Returns:\n",
        "        None: Outputs a file or prints data based on the operation mode.\n",
        "    \"\"\"\n",
        "    # Load the dataset\n",
        "    kg_df = pd.read_csv(file_path)\n",
        "\n",
        "    if operation_mode == 'print_node_types':\n",
        "        # Print all unique node types in the x_type column\n",
        "        unique_node_types = kg_df['x_type'].unique()\n",
        "        print(\"Unique node types in x_type column:\", unique_node_types)\n",
        "\n",
        "    elif operation_mode == 'extract_nodes_file':\n",
        "        # Extract specified columns and remove duplicates based on concatenation of x_id, x_type, x_name\n",
        "        nodes_df = kg_df[['x_id', 'x_type', 'x_name', 'x_source']].drop_duplicates(subset=['x_id', 'x_type', 'x_name'])\n",
        "        output_path = file_path.replace('.csv', '_nodes.csv')\n",
        "        nodes_df.to_csv(output_path, index=False)\n",
        "        print(f\"Nodes data written to {output_path}\")\n",
        "\n",
        "    else:\n",
        "        if node_types is None:\n",
        "            raise ValueError(\"node_types must be provided for 'retain_node_types' or 'delete_node_types' operation modes.\")\n",
        "\n",
        "        if operation_mode == 'retain_node_types':\n",
        "            # Filter to retain rows with specified node types\n",
        "            filtered_kg_df = kg_df[(kg_df['x_type'].isin(node_types)) & (kg_df['y_type'].isin(node_types))]\n",
        "        elif operation_mode == 'delete_node_types':\n",
        "            # Filter to remove rows with specified node types\n",
        "            filtered_kg_df = kg_df[~((kg_df['x_type'].isin(node_types)) & (kg_df['y_type'].isin(node_types)))]\n",
        "        else:\n",
        "            raise ValueError(\"Invalid operation mode. Choose 'retain_node_types', 'delete_node_types', 'print_node_types', or 'extract_nodes_file'.\")\n",
        "\n",
        "        if operation_mode in ['retain_node_types', 'delete_node_types']:\n",
        "            # Write the filtered DataFrame to a new CSV file\n",
        "            output_path = file_path.replace('.csv', '_filtered.csv')\n",
        "            filtered_kg_df.to_csv(output_path, index=False)\n",
        "            print(f\"Filtered data written to {output_path}\")\n",
        "\n",
        "\n",
        "# Example usage\n",
        "# Import the drive module from Google Colab for file access, mount Google Drive\n",
        "from google.colab import drive\n",
        "drive.mount('/content/drive')\n",
        "file_path = '/content/drive/My Drive/primekg_files/kg_raw_orig.csv'  # Adjust the path as needed\n",
        "operation_mode = 'print_node_types'  # Can be 'retain_node_types', 'delete_node_types', or 'print_node_types', or 'extract_nodes_file'\n",
        "node_types = ['gene/protein', 'pathway', 'disease', 'celltype']  # Specify node types for 'retain_node_types' or 'delete_node_types' modes\n",
        "\n",
        "general_purpose_kg_tools(file_path, operation_mode, node_types)\n"
      ]
    }
  ]
}