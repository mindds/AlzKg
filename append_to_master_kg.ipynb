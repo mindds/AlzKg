{
  "nbformat": 4,
  "nbformat_minor": 0,
  "metadata": {
    "colab": {
      "provenance": []
    },
    "kernelspec": {
      "name": "python3",
      "display_name": "Python 3"
    },
    "language_info": {
      "name": "python"
    }
  },
  "cells": [
    {
      "cell_type": "code",
      "execution_count": 1,
      "metadata": {
        "colab": {
          "base_uri": "https://localhost:8080/"
        },
        "id": "YTFtbWLrRV3S",
        "outputId": "b3283c1c-bb86-42f0-d2a7-eda1b64e165e"
      },
      "outputs": [
        {
          "output_type": "stream",
          "name": "stdout",
          "text": [
            "Mounted at /content/drive\n"
          ]
        },
        {
          "output_type": "stream",
          "name": "stderr",
          "text": [
            "<ipython-input-1-bf42decdefbe>:15: DtypeWarning: Columns (2,6) have mixed types. Specify dtype option on import or set low_memory=False.\n",
            "  kgraw = pd.read_csv(master_csv_path)\n"
          ]
        }
      ],
      "source": [
        "import pandas as pd\n",
        "\n",
        "def append_to_master_kg(master_csv_path, additional_csv_paths):\n",
        "    \"\"\"\n",
        "    Appends a list of CSV files to a master AlzKG CSV file, mirroring each edge to match the PrimeKG format.\n",
        "\n",
        "    Parameters:\n",
        "    - master_csv_path: str, the path to the master AlzKG CSV file.\n",
        "    - additional_csv_paths: list, a list of paths to additional CSV files to append.\n",
        "\n",
        "    Returns:\n",
        "    - final_df: DataFrame, the combined DataFrame with mirrored edges.\n",
        "    \"\"\"\n",
        "    # Load the master AlzKG CSV file\n",
        "    kgraw = pd.read_csv(master_csv_path)\n",
        "\n",
        "    # Load and concatenate the additional CSV files, ignoring their headers\n",
        "    additional_dfs = [pd.read_csv(file_path, header=None, skiprows=1) for file_path in additional_csv_paths]\n",
        "    combined_df = pd.concat(additional_dfs, ignore_index=True)\n",
        "\n",
        "    # Assuming kgraw and additional CSVs share the same column structure\n",
        "    combined_df.columns = kgraw.columns\n",
        "\n",
        "    # Create a copy for mirroring\n",
        "    interchanged_df = combined_df.copy()\n",
        "\n",
        "    # Specify columns to interchange for mirroring\n",
        "    # Adjust the column names based on your specific CSV format\n",
        "    columns_to_interchange = ['id', 'type', 'name', 'source']\n",
        "    for col in columns_to_interchange:\n",
        "        # Adjust 'x_col' and 'y_col' to match your CSV's column naming pattern\n",
        "        interchanged_df[f'x_{col}'], interchanged_df[f'y_{col}'] = combined_df[f'y_{col}'], combined_df[f'x_{col}']\n",
        "\n",
        "    # Now concatenate kgraw with the original and mirrored dataframes\n",
        "    final_df = pd.concat([kgraw, combined_df, interchanged_df], ignore_index=True)\n",
        "\n",
        "    return final_df\n",
        "\n",
        "# Example usage:\n",
        "# Import the drive module from Google Colab for file access, mount Google Drive\n",
        "from google.colab import drive\n",
        "drive.mount('/content/drive')\n",
        "filepath = \"/content/drive/My Drive/primekg_files\"\n",
        "\n",
        "master_csv_path = f'{filepath}/kg_raw_orig_filtered.csv'\n",
        "\n",
        "additional_csv_paths = [\n",
        "    f'{filepath}/Ex_kg.csv',\n",
        "    f'{filepath}/In_kg.csv',\n",
        "    f'{filepath}/Oli_kg.csv',\n",
        "    f'{filepath}/Opc_kg.csv',\n",
        "    f'{filepath}/Mic_kg.csv',\n",
        "    f'{filepath}/Ast_kg.csv'\n",
        "]\n",
        "\n",
        "# Append the additional CSV files to the master CSV and mirror edges\n",
        "final_df = append_to_master_kg(master_csv_path, additional_csv_paths)\n",
        "\n",
        "# Save the final DataFrame to a new CSV file\n",
        "final_df.to_csv(f'{filepath}/kgraw_with_mathys.csv', index=False)\n"
      ]
    }
  ]
}